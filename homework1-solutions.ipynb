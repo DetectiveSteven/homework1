{
 "cells": [
  {
   "cell_type": "markdown",
   "metadata": {},
   "source": [
    "# PHY 604: Homework #1 Solutions"
   ]
  },
  {
   "cell_type": "code",
   "execution_count": 1,
   "metadata": {},
   "outputs": [],
   "source": [
    "import math\n",
    "import cmath\n",
    "import numpy as np\n",
    "import matplotlib.pyplot as plt\n",
    "%matplotlib inline"
   ]
  },
  {
   "cell_type": "markdown",
   "metadata": {},
   "source": [
    "<div style=\"background-color: powderblue; color: black; padding: 10px;\">\n",
    "1. Understanding roundoff error\n",
    "\n",
    "(this is essentially Newman exercise 4.2) Consider a quadratic equation of the form $a x^2 + b x + c = 0$.  The two solutions of this are:                                   \n",
    "  $$x = \\frac{-b \\pm \\sqrt{b^2 - 4ac}}{2a}$$\n",
    "                    \n",
    "An alternate expression that gives the same two roots is:\n",
    "  $$x = \\frac{2c}{-b \\mp \\sqrt{b^2 - 4ac}}$$\n",
    "  \n",
    "Understanding how roundoff error works (especially when subtracting two close numbers), and using either or both of these expressions, write a code that gives accurate roots for a quadratic equation with $a = 0.001$, $b = 1000$, and $c = 0.001$.        \n",
    "</div>"
   ]
  },
  {
   "cell_type": "markdown",
   "metadata": {},
   "source": [
    "We are asked to consider two different expressions for the solution quadratic equation.  Here we write functions that provide the two solutions using the two different formulations.  Note we use the `cmath` library so we can capture complex roots."
   ]
  },
  {
   "cell_type": "code",
   "execution_count": 2,
   "metadata": {},
   "outputs": [],
   "source": [
    "def quadratic1(a, b, c):\n",
    "    \"\"\"return the two solutions to the quadratic equation, using the\n",
    "    standard expression\"\"\"\n",
    "\n",
    "    d2 = b**2 - 4*a*c\n",
    "    if d2 < 0.0:\n",
    "        d = cmath.sqrt(d2)\n",
    "    else:\n",
    "        d = math.sqrt(d2)\n",
    "\n",
    "    return (-b + d)/(2*a), (-b - d)/(2*a)\n",
    "\n",
    "\n",
    "def quadratic2(a, b, c):\n",
    "    \"\"\"return the two solutions to the quadratic equation, using the\n",
    "    alternate expression\"\"\"\n",
    "\n",
    "    d2 = b**2 - 4*a*c\n",
    "    if d2 < 0.0:\n",
    "        d = cmath.sqrt(d2)\n",
    "    else:\n",
    "        d = math.sqrt(d2)\n",
    "\n",
    "    return 2*c/(-b - d), 2*c/(-b + d)"
   ]
  },
  {
   "cell_type": "markdown",
   "metadata": {},
   "source": [
    "Our test is\n",
    "$$a x^2 + bx + c = 0$$\n",
    "with $a = 0.001$, $b = 1000$, and $c = 0.001$.  Since $b \\gg 4ac$, the discriminant, $d$, is close to $b$, so we run the risk of subtracting two numbers that are very close together.  This is a situation where roundoff can be large."
   ]
  },
  {
   "cell_type": "code",
   "execution_count": 3,
   "metadata": {},
   "outputs": [],
   "source": [
    "a = 0.001\n",
    "b = 1000.0\n",
    "c = 0.001"
   ]
  },
  {
   "cell_type": "code",
   "execution_count": 4,
   "metadata": {},
   "outputs": [
    {
     "data": {
      "text/plain": [
       "(-9.999894245993346e-07, -999999.999999)"
      ]
     },
     "execution_count": 4,
     "metadata": {},
     "output_type": "execute_result"
    }
   ],
   "source": [
    "quadratic1(a, b, c)"
   ]
  },
  {
   "cell_type": "code",
   "execution_count": 5,
   "metadata": {},
   "outputs": [
    {
     "data": {
      "text/plain": [
       "(-1.000000000001e-06, -1000010.5755125057)"
      ]
     },
     "execution_count": 5,
     "metadata": {},
     "output_type": "execute_result"
    }
   ],
   "source": [
    "quadratic2(a, b, c)"
   ]
  },
  {
   "cell_type": "markdown",
   "metadata": {},
   "source": [
    "We would get the best result when we are add two positive numbers or subtract two negative numbers.  For this, we need to blend the results from the two methods."
   ]
  },
  {
   "cell_type": "code",
   "execution_count": 6,
   "metadata": {},
   "outputs": [],
   "source": [
    "def quad(a, b, c):\n",
    "    x1, x2 = quadratic1(a, b, c)\n",
    "    x1a, x2a = quadratic2(a, b, c)\n",
    "    \n",
    "    if b < 0:\n",
    "        # b is negative, so -b is positive, therefore we prefer the '+' solution from each\n",
    "        return x1, x2a\n",
    "    else:\n",
    "        return x2, x1a"
   ]
  },
  {
   "cell_type": "code",
   "execution_count": 7,
   "metadata": {},
   "outputs": [
    {
     "data": {
      "text/plain": [
       "(-999999.999999, -1.000000000001e-06)"
      ]
     },
     "execution_count": 7,
     "metadata": {},
     "output_type": "execute_result"
    }
   ],
   "source": [
    "quad(a, b, c)"
   ]
  },
  {
   "cell_type": "markdown",
   "metadata": {},
   "source": [
    "<div style=\"background-color: powderblue; color: black; padding: 10px;\">\n",
    "\n",
    "2. Imagine evaluating an integral, $I$, \n",
    "$$I = \\int_a^b {}f(x) dx$$\n",
    "  with the trapezoid rule.  We divide $[a, b]$ into $N$ intervals and use\n",
    "  the trapezoid rule as:\n",
    "$$I_h \\equiv \\frac{h}{2} \\sum_{i=0}^{N-1} \\left [f(x_i) + f(x_{i+1})\\right ]$$\n",
    "where \n",
    "$$h = \\frac{b - a}{N}$$\n",
    "\n",
    "A we saw in class, the error in this approximation is $\\mathcal{O}(h^2)$, which we write as:\n",
    "$$I \\approx I_h + c h^2$$ (where $c$ is some constant and $I$ is the exact integral).\n",
    "\n",
    "Here we want to provide an estimate of the error in our integral and use this\n",
    "  to pick the number of intervals $N$ to get some desired accuracy $\\epsilon$.\n",
    "</div>"
   ]
  },
  {
   "cell_type": "markdown",
   "metadata": {},
   "source": [
    "<div style=\"background-color: powderblue; color: black; padding: 10px;\">\n",
    "a. Consider computing the integral with $N$ intervals and $2N$ intervals\n",
    "      (corresponding to $h$ and $h/2$ resolution).  Show that the approximate\n",
    "      error with this finer resolution is\n",
    "      \\begin{equation}\n",
    "        \\epsilon_{h/2} \\approx \\frac{1}{3} (I_{h/2} - I_h)\n",
    "      \\end{equation}\n",
    "</div>"
   ]
  },
  {
   "cell_type": "markdown",
   "metadata": {},
   "source": [
    "The trapezoid method approximates an integral as:\n",
    "$I \\approx I_h + c h^2$.  Now consider the error for 2 different stepsizes:\n",
    "$$I_h = I - ch^2$$\n",
    "$$I_{h/2} = I - c(h/2)^2 = I - ch^2/4$$\n",
    "Subtracting these, we find:\n",
    "$$ch^2 = \\frac{4}{3}(I_{h/2} - I_h)$$\n",
    "\n",
    "Our expression for the integral with stepsize $h/2$ is\n",
    "$$I = I_{h/2} + ch^2/4 \\equiv I_{h/2} + \\epsilon_{h/2}$$\n",
    "where $\\epsilon_{h/2} = ch^2/4$.  Substituting in our expression for $ch^2$, we find:\n",
    "$$\\epsilon_{h/2} = \\frac{1}{3}(I_{h/2} - I_h)$$"
   ]
  },
  {
   "cell_type": "markdown",
   "metadata": {},
   "source": [
    "<div style=\"background-color: powderblue; color: black; padding: 10px;\">\n",
    "b. Test this error estimate on the following integrals with\n",
    "   known solutions and see how this estimate compares to the true\n",
    "   error in the trapezoid integration (i.e., $I - I_h$).  Note,\n",
    "   only the absolute value of the error matters.\n",
    "\n",
    "    <br>i. $I = \\int_0^1 x dx$\n",
    "    <br>ii. $I = \\int_0^1 \\sin(x) dx$\n",
    "</div>      \n"
   ]
  },
  {
   "cell_type": "markdown",
   "metadata": {},
   "source": [
    "Here's a general trapezoid integration rule"
   ]
  },
  {
   "cell_type": "code",
   "execution_count": 8,
   "metadata": {},
   "outputs": [],
   "source": [
    "def trap(f, a, b, N):\n",
    "    \"\"\" do a trapezoid integration by breaking up the domain [a,b] into N\n",
    "    slabs \"\"\"\n",
    "    xedge = np.linspace(a, b, N+1)\n",
    "\n",
    "    integral = 0.0\n",
    "\n",
    "    for n in range(N):\n",
    "        integral += 0.5*(xedge[n+1] - xedge[n])*(f(xedge[n]) + f(xedge[n+1]))\n",
    "\n",
    "    return integral"
   ]
  },
  {
   "cell_type": "markdown",
   "metadata": {},
   "source": [
    "Case i: $I = \\int_0^1 x dx$.  The analytic solution is $1/2$."
   ]
  },
  {
   "cell_type": "code",
   "execution_count": 9,
   "metadata": {},
   "outputs": [
    {
     "name": "stdout",
     "output_type": "stream",
     "text": [
      "estimated error: 0.0; true error: 0.0\n"
     ]
    }
   ],
   "source": [
    "def f(x):\n",
    "    return x\n",
    "\n",
    "def I_true():\n",
    "    return 0.5\n",
    "\n",
    "N = 10\n",
    "I1 = trap(f, 0, 1, N)\n",
    "I2 = trap(f, 0, 1, 2*N)\n",
    "\n",
    "# our error estimate\n",
    "eps = (1./3.)*(I2 - I1)\n",
    "print(\"estimated error: {}; true error: {}\".format(eps, I_true()-I2))"
   ]
  },
  {
   "cell_type": "markdown",
   "metadata": {},
   "source": [
    "Case ii: $I = \\int_0^1 \\sin(x) dx$."
   ]
  },
  {
   "cell_type": "code",
   "execution_count": 10,
   "metadata": {},
   "outputs": [
    {
     "name": "stdout",
     "output_type": "stream",
     "text": [
      "estimated error: 9.579031009027128e-05; true error: 9.577434361301984e-05\n"
     ]
    }
   ],
   "source": [
    "def g(x):\n",
    "    return np.sin(x)\n",
    "\n",
    "def I_true():\n",
    "    return -(np.cos(1) - np.cos(0))\n",
    "\n",
    "N = 10\n",
    "I1 = trap(g, 0, 1, N)\n",
    "I2 = trap(g, 0, 1, 2*N)\n",
    "\n",
    "# our error estimate\n",
    "eps = (1./3.)*(I2 - I1)\n",
    "print(\"estimated error: {}; true error: {}\".format(eps, I_true()-I2))"
   ]
  },
  {
   "cell_type": "markdown",
   "metadata": {},
   "source": [
    "For case i, since that is a line, the trapezoid rule gets it exact, so the error estimate doesn't do anything.  But for case ii, we see that the error estimate is accurate."
   ]
  },
  {
   "cell_type": "markdown",
   "metadata": {},
   "source": [
    "<div style=\"background-color: powderblue; color: black; padding: 10px;\">\n",
    "Write a program that takes a function, $f$, an interval, $[a, b]$,\n",
    "      and a desired error, $\\epsilon$, and computes the integral of $f$\n",
    "      to that accuracy by determining the number of intervals $N$ needed\n",
    "      using the above error estimate.\n",
    "</div>"
   ]
  },
  {
   "cell_type": "code",
   "execution_count": 11,
   "metadata": {},
   "outputs": [],
   "source": [
    "def integrate(f, a, b, eps=1.e-7):\n",
    "\n",
    "    # start small\n",
    "    N = 4\n",
    "\n",
    "    I_old = trap(f, a, b, N)\n",
    "    error = 1.e30\n",
    "\n",
    "    while error > eps:\n",
    "        N *= 2\n",
    "        I_new = trap(f, a, b, N)\n",
    "        error = abs((1./3.)*(I_new - I_old))\n",
    "        I_old = I_new\n",
    "\n",
    "    return I_new, N"
   ]
  },
  {
   "cell_type": "markdown",
   "metadata": {},
   "source": [
    "We can test this on an arbitrary function.  We'll print out how many intervals it wound up using as a measure of how demanding it was"
   ]
  },
  {
   "cell_type": "code",
   "execution_count": 12,
   "metadata": {},
   "outputs": [
    {
     "name": "stdout",
     "output_type": "stream",
     "text": [
      "1.77245385094 32\n"
     ]
    }
   ],
   "source": [
    "def h(x):\n",
    "    return np.exp(-x**2)\n",
    "\n",
    "I_new, N = integrate(h, -10.0, 10.0, eps=1.e-2)\n",
    "print(I_new, N)"
   ]
  },
  {
   "cell_type": "code",
   "execution_count": 13,
   "metadata": {},
   "outputs": [
    {
     "name": "stdout",
     "output_type": "stream",
     "text": [
      "1.77245385091 64\n"
     ]
    }
   ],
   "source": [
    "I_new, N = integrate(h, -10.0, 10.0, eps=1.e-7)\n",
    "print(I_new, N)"
   ]
  },
  {
   "cell_type": "markdown",
   "metadata": {
    "collapsed": true
   },
   "source": [
    "<div style=\"background-color: powderblue; color: black; padding: 10px;\">\n",
    "3. _Integration to $\\infty$_ (based on Newman).  Consider the\n",
    "  gamma function,\n",
    "  \\begin{equation}\n",
    "    \\Gamma(a) = \\int_0^\\infty x^{a-1} e^{-x} dx\n",
    "  \\end{equation}\n",
    "  We want to evaluate this numerically.  Consider a variable \n",
    "  transformation of the form:\n",
    "  \\begin{equation}\n",
    "    z = \\frac{x}{x + c}\n",
    "  \\end{equation}\n",
    "  This will map $x \\in [0, \\infty)$ to $z \\in [0, 1]$, allowing us to\n",
    "  do this integral numerically in terms of $z$.\n",
    "\n",
    "  For convenience, we express the integrand as $\\phi(x) = x^{a-1} e^{-x}$.  \n",
    "</div>"
   ]
  },
  {
   "cell_type": "markdown",
   "metadata": {
    "collapsed": true
   },
   "source": [
    "<div style=\"background-color: powderblue; color: black; padding: 10px;\">\n",
    "a. For what value of $x$ is the integrand $\\phi(x)$ maximum?\n",
    "</div>"
   ]
  },
  {
   "cell_type": "markdown",
   "metadata": {},
   "source": [
    "We can differntiate this and set it to 0.\n",
    "\n",
    "$$d\\phi/dx = (a-1)x^{a-2} e^{-x} - x^{a-1}e^{-x} = 0$$\n",
    "or\n",
    "$$(a-1)x^{-1} - 1 = 0 $$\n",
    "\n",
    "Therefore, \n",
    "$$ x = a - 1$$\n"
   ]
  },
  {
   "cell_type": "markdown",
   "metadata": {
    "collapsed": true
   },
   "source": [
    "<div style=\"background-color: powderblue; color: black; padding: 10px;\">\n",
    "b. Choose the value $c$ in our transformation such that the \n",
    "    peak of the integrand occurs at $z = 1/2$---what value is $c$?\n",
    "\n",
    "    <br><br>This choice spreads the interesting regions of integrand over\n",
    "    the domain $z \\in [0,1]$, making our numerical integration \n",
    "    more accurate.\n",
    "</div>"
   ]
  },
  {
   "cell_type": "markdown",
   "metadata": {},
   "source": [
    "Our change of variables is \n",
    "$$ z = \\frac{x}{c+x}$$\n",
    "or \n",
    "$$ x = c \\frac{z}{1-z}$$\n",
    "Taking $x = c$, we get $z = 1/2$, which is where we want the peak to fall, so this means that we want $c$ to be the value of $x$ we found above, $c = a-1$."
   ]
  },
  {
   "cell_type": "markdown",
   "metadata": {
    "collapsed": true
   },
   "source": [
    "<div style=\"background-color: powderblue; color: black; padding: 10px;\">\n",
    "c. Find $\\Gamma(a)$ for a few different value of $a$ using and\n",
    "    numerical integration method you wish, integrating from $z = 0$ to\n",
    "    $z = 1$.  Keep the number of points in your quadrature to a\n",
    "    reasonable amount ($N \\lesssim 50$).\n",
    "\n",
    "    <br><br>Don't forget to include the factors you pick up when changing\n",
    "    $dx$ to $dz$.\n",
    "\n",
    "    <br><br>Note that roundoff error may come into play in the integrand.\n",
    "    Recognizing that you can write $x^{a-1} = e^{(a-1)\\ln{x}}$ can\n",
    "    help minimize this.\n",
    "    </div>"
   ]
  },
  {
   "cell_type": "markdown",
   "metadata": {},
   "source": [
    "Note that for our change of variables,\n",
    "$$dx = \\frac{c dz}{(1-z)^2}$$\n",
    "our integral is then:\n",
    "$$\\Gamma(a) = c \\int_0^1 \\phi \\left (c \\frac{z}{1-z} \\right) (1-z)^{-2} dz$$\n",
    "\n",
    "Our code is then:"
   ]
  },
  {
   "cell_type": "code",
   "execution_count": 14,
   "metadata": {},
   "outputs": [
    {
     "name": "stdout",
     "output_type": "stream",
     "text": [
      "0.884707375364\n"
     ]
    },
    {
     "name": "stderr",
     "output_type": "stream",
     "text": [
      "/home/zingale/.local/lib/python3.6/site-packages/ipykernel_launcher.py:10: RuntimeWarning: divide by zero encountered in log\n",
      "  # Remove the CWD from sys.path while we load stuff.\n"
     ]
    }
   ],
   "source": [
    "# this is a safety factor to prevent NaNs\n",
    "SMALL = 1.e-20\n",
    "\n",
    "def integrand(x, a):\n",
    "    \"\"\" we rewrite the integrand by recognizing that x**(a-1) =\n",
    "       exp((a-1.0)*log(x)) \"\"\"\n",
    "\n",
    "    # if x = 0, then the integrand is 0\n",
    "    return np.where(x > 0.0,\n",
    "                    np.exp( (a-1.0)*np.log(x) - x), 0.0)\n",
    "\n",
    "def zv(x, a):\n",
    "    \"\"\" transform the variable x -> z \"\"\"\n",
    "    c = a - 1.0\n",
    "    return x/(c + x) \n",
    "\n",
    "def xv(z, a):\n",
    "    \"\"\" transform back from z -> x \"\"\"\n",
    "    c = a - 1.0\n",
    "    return c*z/(1.0 - z + SMALL)\n",
    "\n",
    "def gamma_integral(a, npts):\n",
    "    \"\"\" integrate the gamma function \"\"\"\n",
    "    \n",
    "    z = np.linspace(0.0, 1.0, npts)\n",
    "\n",
    "    # do the integral via the trapezoid rule.  We will integrate\n",
    "    # over z = [0, 1].  Our integral, with our change of coords\n",
    "    # is \n",
    "    #\n",
    "    # I = c int_0^1 f( (z/(1-z)) ) dz/(1-z)^2\n",
    "    \n",
    "    I = 0.0\n",
    "    f = integrand(xv(z, a), a)\n",
    "    c = a - 1.0\n",
    "\n",
    "    for n in range(1, npts):\n",
    "        I += 0.5*(z[n] - z[n-1])*(f[n]/(1.0 - z[n] + SMALL)**2 + \n",
    "                                  f[n-1]/(1.0 - z[n-1] + SMALL)**2)\n",
    "    I *= c\n",
    "\n",
    "    return I\n",
    "\n",
    "a = 1.5\n",
    "N = 20\n",
    "I = gamma_integral(a, N)\n",
    "print(I)"
   ]
  },
  {
   "cell_type": "markdown",
   "metadata": {},
   "source": [
    "<div style=\"background-color: powderblue; color: black; padding: 10px;\">\n",
    "4. _Simpson's rule_ . In class we derived the compound version\n",
    "  of Simpson's rule, noting that we integrate over pairs of\n",
    "  slabs/intervals.\n",
    "\n",
    "<br><br>a. Imagine that you want to integrate $f(x)$ over $[a, b]$, and\n",
    "    have divided the domain into an odd number, $N$, slabs/intervals,\n",
    "    with the function specified at the points $x_0, \\ldots, x_{N}$.\n",
    "\n",
    "    In this case, you would integrate all the pairs of slabs up until\n",
    "    the last slab.  For the remaining odd slab, $[x_{N-1}, x_{N}]$,\n",
    "    show that a Simpson's rule for this slab is\n",
    "    \\begin{equation}\n",
    "      \\int_{x_{N-1}}^{x_{N}} f(x) dx \\approx \\frac{\\Delta x}{12}\n",
    "      (-f_{N-2} + 8 f_{N-1} + 5 f_{N})\n",
    "    \\end{equation}\n",
    "    (Hint: fit a parabola to the last three points and integrate over\n",
    "    the last slab).  \n",
    "</div>"
   ]
  },
  {
   "cell_type": "markdown",
   "metadata": {},
   "source": [
    "We want to fit a parabola to the rightmost three points, $x_{N-2}$, $x_{N-1}$, and $x_N$.\n",
    "\n",
    "We'll take our parabola to be:\n",
    "$$f(x) = A (x - x_N)^2 + B (x - x_N) + C$$\n",
    "\n",
    "Using our known function values, we find:\n",
    "$$f_{N-2} = 4\\delta^2 A - 2\\delta B + C$$\n",
    "$$f_{N-1} = \\delta^2 A - \\delta B + C$$\n",
    "$$f_N = C$$\n",
    "where $\\delta = x_N - x_{N-1}$.\n",
    "\n",
    "This gives 3 equations and 3 unknowns.  The solution to these are:\n",
    "$$A = \\frac{f_{N-2} - 2 f_{N-1} + f_N}{2\\delta^2}$$\n",
    "$$B = -\\frac{-f_{N-2} + 4f_{N-1} - 3f_N}{2\\delta}$$\n",
    "$$C = f_N$$\n",
    "\n",
    "Now we integrate only over _one slab_, as:\n",
    "$$I = \\int_{x_{N-1}}^{x_N} [ A(x-x_N)^2 + B(x-x_N) + C ] dx = \\frac{1}{3}\\delta^3 A - \\frac{1}{2}\\delta^2 B + C\\delta$$\n",
    "\n",
    "Substituting in our expressions for $A$, $B$, and $C$, we get:\n",
    "$$I = \\frac{\\delta}{12}\n",
    "      (-f_{N-2} + 8 f_{N-1} + 5 f_{N})$$"
   ]
  },
  {
   "cell_type": "markdown",
   "metadata": {},
   "source": [
    "<div style=\"background-color: powderblue; color: black; padding: 10px;\">\n",
    "\n",
    "b. Integrate $f(x) = \\sin(\\pi x)$ over $[0,1]$ using $N = 3$,\n",
    "    $7$, $15$, \\& $31$ slabs/intervals, and plot the absolute error\n",
    "    vs. $\\delta = (b-a)/N$ on a log-log plot.  \n",
    "\n",
    "    <br>What convergence rate do you observe?\n",
    "</div>"
   ]
  },
  {
   "cell_type": "markdown",
   "metadata": {},
   "source": [
    "First we define the function we wish to integrate and the exact solution"
   ]
  },
  {
   "cell_type": "code",
   "execution_count": 15,
   "metadata": {},
   "outputs": [],
   "source": [
    "# function we wish to integrate\n",
    "def fun(x):\n",
    "    return np.sin(math.pi*x)\n",
    "\n",
    "\n",
    "# analytic value of the integral of fun() above\n",
    "def I_exact(a,b):\n",
    "    return (1.0/math.pi)*(-math.cos(math.pi*b) + math.cos(math.pi*a))"
   ]
  },
  {
   "cell_type": "markdown",
   "metadata": {},
   "source": [
    "Now we write our Simpson's routine:"
   ]
  },
  {
   "cell_type": "code",
   "execution_count": 16,
   "metadata": {},
   "outputs": [],
   "source": [
    "def simp(a, b, f, N):\n",
    "    \"\"\" integrate using Simpson's rule \"\"\"\n",
    "\n",
    "    xedge = np.linspace(a, b, N+1)\n",
    "\n",
    "    integral = 0.0\n",
    "\n",
    "    if N%2 == 0:\n",
    "        M = N\n",
    "        odd = 0\n",
    "    else:\n",
    "        M = N - 1\n",
    "        odd = 1\n",
    "\n",
    "    delta = (xedge[1] - xedge[0])\n",
    "\n",
    "    for n in range(0, M, 2):\n",
    "        integral += (1.0/3.0)*delta*(f(xedge[n]) +\n",
    "                                     4.0*f(xedge[n+1]) +\n",
    "                                     f(xedge[n+2]))\n",
    "\n",
    "    # if we had an odd # of bins, do the last one:\n",
    "    if odd:\n",
    "        integral += (delta/12.0)*(-f(xedge[N-2]) +\n",
    "                                   8.0*f(xedge[N-1]) +\n",
    "                                   5.0*f(xedge[N]))\n",
    "\n",
    "    return integral"
   ]
  },
  {
   "cell_type": "markdown",
   "metadata": {},
   "source": [
    "We'll run at a variety of $N$ and look at convergence"
   ]
  },
  {
   "cell_type": "code",
   "execution_count": 17,
   "metadata": {},
   "outputs": [
    {
     "name": "stdout",
     "output_type": "stream",
     "text": [
      "0.3333333333333333 0.649519052838 0.0128992804707\n",
      "0.14285714285714285 0.637251651005 0.00063187863742\n",
      "0.06666666666666667 0.636651575394 3.18030261199e-05\n",
      "0.03225806451612903 0.636621537608 1.76523993489e-06\n"
     ]
    },
    {
     "data": {
      "text/plain": [
       "<matplotlib.text.Text at 0x7f780e536710>"
      ]
     },
     "execution_count": 17,
     "metadata": {},
     "output_type": "execute_result"
    },
    {
     "data": {
      "image/png": "[encoded data removed]",
      "text/plain": [
       "<matplotlib.figure.Figure at 0x7f7830718be0>"
      ]
     },
     "metadata": {},
     "output_type": "display_data"
    }
   ],
   "source": [
    "a = 0.0\n",
    "b = 1.0\n",
    "\n",
    "N = [3, 7, 15, 31]\n",
    "\n",
    "delta = []\n",
    "error = []\n",
    "\n",
    "for n in N:\n",
    "    t = simp(a,b,fun,n)\n",
    "    e = t - I_exact(a,b)\n",
    "    dx = (b - a)/n\n",
    "\n",
    "    print(dx, t, e)\n",
    "\n",
    "    # for plotting\n",
    "    delta.append(dx)\n",
    "    error.append(e)\n",
    "\n",
    "\n",
    "d = np.array(delta)\n",
    "e = np.array(error)\n",
    "plt.scatter(d, e)\n",
    "\n",
    "# plot a line representing delta**4 scaling\n",
    "plt.plot(d, e[0]*(d/d[0])**4)\n",
    "\n",
    "ax = plt.gca()\n",
    "ax.set_xscale('log')\n",
    "ax.set_yscale('log')\n",
    "\n",
    "plt.xlabel(r\"$\\delta$\")\n",
    "plt.ylabel(\"absolute error\")"
   ]
  },
  {
   "cell_type": "markdown",
   "metadata": {},
   "source": [
    "The line represents 4th order scaling.  We seem to converge almost as 4th order overall."
   ]
  },
  {
   "cell_type": "code",
   "execution_count": null,
   "metadata": {},
   "outputs": [],
   "source": []
  }
 ],
 "metadata": {
  "kernelspec": {
   "display_name": "Python 3",
   "language": "python",
   "name": "python3"
  },
  "language_info": {
   "codemirror_mode": {
    "name": "ipython",
    "version": 3
   },
   "file_extension": ".py",
   "mimetype": "text/x-python",
   "name": "python",
   "nbconvert_exporter": "python",
   "pygments_lexer": "ipython3",
   "version": "3.6.2"
  }
 },
 "nbformat": 4,
 "nbformat_minor": 2
}
